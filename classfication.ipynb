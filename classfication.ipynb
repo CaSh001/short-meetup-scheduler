{
  "cells": [
    {
      "cell_type": "markdown",
      "metadata": {
        "id": "view-in-github",
        "colab_type": "text"
      },
      "source": [
        "<a href=\"https://colab.research.google.com/github/CaSh001/short-meetup-scheduler/blob/master/classfication.ipynb\" target=\"_parent\"><img src=\"https://colab.research.google.com/assets/colab-badge.svg\" alt=\"Open In Colab\"/></a>"
      ]
    },
    {
      "cell_type": "code",
      "execution_count": 1,
      "metadata": {
        "id": "kcQv9-fXLsuh"
      },
      "outputs": [],
      "source": [
        "import numpy as np\n",
        "from sklearn.model_selection import train_test_split\n",
        "import scipy.io"
      ]
    },
    {
      "cell_type": "code",
      "execution_count": 3,
      "metadata": {
        "colab": {
          "base_uri": "https://localhost:8080/"
        },
        "id": "1zVSpYTuMpgj",
        "outputId": "4af71951-fa22-419d-8ff2-037dd8518101"
      },
      "outputs": [
        {
          "output_type": "stream",
          "name": "stdout",
          "text": [
            "Normalized Data:\n",
            "[[[0.0326535  0.04252549 0.06465611 ... 0.00509872 0.00238663 0.00303754]\n",
            "  [0.0326535  0.04252549 0.0574962  ... 0.00509872 0.00238663 0.00282057]\n",
            "  [0.0326535  0.04252549 0.06465611 ... 0.00444782 0.00238663 0.00238663]\n",
            "  ...\n",
            "  [0.04165763 0.05348232 0.06563246 ... 0.00184422 0.00162725 0.00119332]\n",
            "  [0.04165763 0.05348232 0.07268388 ... 0.00119332 0.00119332 0.00173573]\n",
            "  [0.03428076 0.04382729 0.07224995 ... 0.0013018  0.0013018  0.00086787]]\n",
            "\n",
            " [[0.04230853 0.04458668 0.06628336 ... 0.00466479 0.00238663 0.00282057]\n",
            "  [0.03460621 0.04458668 0.05923194 ... 0.00423085 0.00282057 0.0026036 ]\n",
            "  [0.04230853 0.0535908  0.05923194 ... 0.00401389 0.00173573 0.00282057]\n",
            "  ...\n",
            "  [0.04198308 0.0529399  0.06519852 ... 0.00151877 0.00119332 0.0006509 ]\n",
            "  [0.04198308 0.0529399  0.06519852 ... 0.0019527  0.00119332 0.0026036 ]\n",
            "  [0.03428076 0.04382729 0.07224995 ... 0.0013018  0.0013018  0.00086787]]\n",
            "\n",
            " [[0.04122369 0.0548926  0.06671729 ... 0.00433934 0.00216967 0.00303754]\n",
            "  [0.03352137 0.04578    0.06671729 ... 0.00368844 0.00173573 0.0026036 ]\n",
            "  [0.03352137 0.04578    0.0738772  ... 0.00412237 0.0019527  0.0026036 ]\n",
            "  ...\n",
            "  [0.0496854  0.05196355 0.0732263  ... 0.00162725 0.0019527  0.00119332]\n",
            "  [0.03428076 0.05196355 0.0732263  ... 0.00271209 0.0019527  0.00141028]\n",
            "  [0.0496854  0.04285094 0.0732263  ... 0.00184422 0.0013018  0.00162725]]\n",
            "\n",
            " ...\n",
            "\n",
            " [[0.04230853 0.04274246 0.05977435 ... 0.00184422 0.00173573 0.00216967]\n",
            "  [0.03460621 0.04274246 0.05977435 ... 0.00206118 0.00173573 0.00173573]\n",
            "  [0.04230853 0.04274246 0.05977435 ... 0.00162725 0.00097635 0.0019527 ]\n",
            "  ...\n",
            "  [0.04100673 0.04317639 0.07290085 ... 0.00542417 0.00303754 0.00368844]\n",
            "  [0.04100673 0.05218052 0.07290085 ... 0.0058581  0.00282057 0.00368844]\n",
            "  [0.04870905 0.05218052 0.06584943 ... 0.00564114 0.0026036  0.00412237]]\n",
            "\n",
            " [[0.03525711 0.05315687 0.06671729 ... 0.00206118 0.00173573 0.00119332]\n",
            "  [0.03525711 0.04415274 0.05966587 ... 0.00162725 0.00151877 0.00141028]\n",
            "  [0.04295943 0.04415274 0.05966587 ... 0.00141028 0.0013018  0.00119332]\n",
            "  ...\n",
            "  [0.04100673 0.04317639 0.07290085 ... 0.00542417 0.00303754 0.00368844]\n",
            "  [0.04100673 0.05218052 0.07290085 ... 0.0058581  0.00282057 0.00368844]\n",
            "  [0.04198308 0.0542417  0.07431113 ... 0.00574962 0.00282057 0.00368844]]\n",
            "\n",
            " [[0.04144066 0.04458668 0.06682578 ... 0.0013018  0.00162725 0.00141028]\n",
            "  [0.03362985 0.0535908  0.06682578 ... 0.00238663 0.00141028 0.00238663]\n",
            "  [0.03362985 0.04458668 0.05977435 ... 0.00238663 0.00184422 0.00086787]\n",
            "  ...\n",
            "  [0.0496854  0.0451291  0.07431113 ... 0.00574962 0.00238663 0.00368844]\n",
            "  [0.0496854  0.0451291  0.07431113 ... 0.00574962 0.00303754 0.00412237]\n",
            "  [0.04198308 0.0542417  0.07431113 ... 0.00574962 0.00282057 0.00368844]]]\n",
            "Ground Truth Data:\n",
            "[[ 0  0  0 ...  0  0  0]\n",
            " [ 0  0  0 ...  0  0  0]\n",
            " [ 0  0  0 ...  0  0  0]\n",
            " ...\n",
            " [16 16 16 ...  0  0  0]\n",
            " [16 16 16 ...  0  0  0]\n",
            " [ 0  0  0 ...  0  0  0]]\n"
          ]
        }
      ],
      "source": [
        "import numpy as np\n",
        "import scipy.io\n",
        "\n",
        "# 1. data loading\n",
        "def load_data(file_path):\n",
        "    # Use the loadmat function in the SciPy library to load a data file in MATLAB format\n",
        "    data = scipy.io.loadmat(file_path)\n",
        "    # Extract a specific data matrix from the loaded data, e.g. 'salinas_corrected' or other appropriate key name\n",
        "    # Return the data matrix\n",
        "    return data['salinas_corrected']\n",
        "\n",
        "# Call the load_data function to load a hyperspectral dataset\n",
        "data = load_data('/content/Salinas_corrected.mat')\n",
        "\n",
        "# 2. Normalization\n",
        "def normalize_data(data):\n",
        "    # Normalise the data\n",
        "    # Use max-min normalisation to scale the data to a range from 0 to 1\n",
        "    # Calculate the minimum and maximum values of the data\n",
        "    min_value = np.min(data)\n",
        "    max_value = np.max(data)\n",
        "    # Perform normalisation calculations\n",
        "    normalized_data = (data - min_value) / (max_value - min_value)\n",
        "    return normalized_data\n",
        "\n",
        "# Call the normalize_data function for normalization\n",
        "normalized_data = normalize_data(data)\n",
        "\n",
        "# 3. loading ground truth tagging data\n",
        "gt_data = scipy.io.loadmat('/content/Salinas_gt.mat')['salinas_gt']\n",
        "\n",
        "# Print normalised data and ground truth classification label data\n",
        "print(\"Normalized Data:\")\n",
        "print(normalized_data)\n",
        "print(\"Ground Truth Data:\")\n",
        "print(gt_data)\n"
      ]
    },
    {
      "cell_type": "code",
      "execution_count": 4,
      "metadata": {
        "colab": {
          "base_uri": "https://localhost:8080/"
        },
        "id": "1SvyhrqeiO5N",
        "outputId": "0e181b9a-3e58-4c57-9d4e-05affecb3793"
      },
      "outputs": [
        {
          "output_type": "stream",
          "name": "stdout",
          "text": [
            "(512, 217, 204)\n",
            "(512, 217, 204)\n",
            "(512, 217)\n"
          ]
        }
      ],
      "source": [
        "print(data.shape)\n",
        "print(normalized_data.shape)\n",
        "print(gt_data.shape)\n"
      ]
    },
    {
      "cell_type": "code",
      "execution_count": 5,
      "metadata": {
        "colab": {
          "base_uri": "https://localhost:8080/"
        },
        "id": "i7KNTr9tjQ75",
        "outputId": "0b7008d4-7994-4117-cbc1-3e158f01f0d7"
      },
      "outputs": [
        {
          "output_type": "stream",
          "name": "stdout",
          "text": [
            "Shape of the reduced data: (111104, 150)\n"
          ]
        }
      ],
      "source": [
        "import numpy as np\n",
        "from sklearn.decomposition import PCA\n",
        "\n",
        "# Convert the 3D hyperspectral data to a 2D feature matrix\n",
        "X = normalized_data.reshape(-1, normalized_data.shape[2])\n",
        "\n",
        "# Create a PCA object and specify the number of components for dimensionality reduction\n",
        "pca = PCA(n_components=150)\n",
        "\n",
        "# Perform PCA dimensionality reduction\n",
        "X_pca = pca.fit_transform(X)\n",
        "\n",
        "# Print the shape of the reduced data\n",
        "print(\"Shape of the reduced data:\", X_pca.shape)\n"
      ]
    },
    {
      "cell_type": "markdown",
      "metadata": {
        "id": "g9q4rYYoixoA"
      },
      "source": [
        "#####In the Salinas hyperspectral dataset, we treat it as a complete hyperspectral image. Thus, there is one hyperspectral image in the dataset. His shape of (512, 217, 204) indicates that the dataset contains 512 rows, 217 columns and 204 bands. This means that the dataset consists of 512 pixel samples, each with 204 different band values measured at 217 spatial locations.\\"
      ]
    },
    {
      "cell_type": "markdown",
      "metadata": {
        "id": "TlRt_YgwQnaX"
      },
      "source": [
        "Split Data"
      ]
    },
    {
      "cell_type": "code",
      "execution_count": 6,
      "metadata": {
        "colab": {
          "base_uri": "https://localhost:8080/"
        },
        "id": "PX3K8Hlv2sLm",
        "outputId": "604988d0-54c5-42cc-bf3e-4213f765f774"
      },
      "outputs": [
        {
          "output_type": "stream",
          "name": "stdout",
          "text": [
            "Shape of X: (111104, 204)\n",
            "Shape of labels: (111104,)\n"
          ]
        }
      ],
      "source": [
        "import numpy as np\n",
        "\n",
        "# WE have normalized_data and gt_data defined\n",
        "\n",
        "# Reshape the normalized data to match the shape of the ground truth data\n",
        "X = normalized_data.reshape(-1, normalized_data.shape[2])\n",
        "\n",
        "# Flatten the ground truth data to a 1-dimensional array\n",
        "labels = gt_data.ravel()\n",
        "\n",
        "# Print the shapes of X and labels\n",
        "print(\"Shape of X:\", X.shape)\n",
        "print(\"Shape of labels:\", labels.shape)\n"
      ]
    },
    {
      "cell_type": "code",
      "execution_count": 7,
      "metadata": {
        "colab": {
          "base_uri": "https://localhost:8080/"
        },
        "id": "GfGGx_if2gHG",
        "outputId": "79ea2a2c-ca5d-4c49-b6f1-8e06f5240774"
      },
      "outputs": [
        {
          "output_type": "stream",
          "name": "stdout",
          "text": [
            "Train data shape: (110976, 204)\n",
            "Test data shape: (128, 204)\n",
            "Train labels shape: (110976,)\n",
            "Test labels shape: (128,)\n"
          ]
        }
      ],
      "source": [
        "\n",
        "# Define the number of rows for the test set\n",
        "test_rows_upper = 128\n",
        "\n",
        "# Split the dataset into train and test based on spatial base\n",
        "X_train = X[test_rows_upper:, :]\n",
        "X_test = X[:test_rows_upper, :]\n",
        "labels_train = labels[test_rows_upper:]\n",
        "labels_test = labels[:test_rows_upper]\n",
        "\n",
        "# Print the shapes of train and test data\n",
        "print(\"Train data shape:\", X_train.shape)\n",
        "print(\"Test data shape:\", X_test.shape)\n",
        "print(\"Train labels shape:\", labels_train.shape)\n",
        "print(\"Test labels shape:\", labels_test.shape)\n"
      ]
    },
    {
      "cell_type": "code",
      "execution_count": 8,
      "metadata": {
        "id": "iqY0WWZIbNsh"
      },
      "outputs": [],
      "source": [
        "# Split the dataset into train and test based on spatial base\n",
        "X_train = X[test_rows_upper:, :]\n",
        "X_test = X[:test_rows_upper, :]\n",
        "y_train = labels[test_rows_upper:]\n",
        "y_test = labels[:test_rows_upper]"
      ]
    },
    {
      "cell_type": "markdown",
      "metadata": {
        "id": "2H7VFIraR8Ol"
      },
      "source": [
        "Cross Validation"
      ]
    },
    {
      "cell_type": "code",
      "execution_count": null,
      "metadata": {
        "colab": {
          "base_uri": "https://localhost:8080/"
        },
        "id": "QcbIGjD3R7a7",
        "outputId": "4209153a-9bd8-4a3f-d475-edeb4bd37b11"
      },
      "outputs": [
        {
          "name": "stdout",
          "output_type": "stream",
          "text": [
            "Cross-validation scores: [0.54786013 0.72597993 0.76625714 0.79249359 0.75450045]\n",
            "Mean score: 0.7174182485077183\n"
          ]
        }
      ],
      "source": [
        "import numpy as np\n",
        "from sklearn.svm import SVC\n",
        "from sklearn.model_selection import cross_val_score\n",
        "\n",
        "# Define your classifier\n",
        "model = SVC()\n",
        "\n",
        "# Concatenate the train and test data\n",
        "X = np.concatenate((X_train, X_test), axis=0)\n",
        "y = np.concatenate((labels_train, labels_test), axis=0)\n",
        "\n",
        "# Perform cross-validation and calculate scores\n",
        "scores = cross_val_score(model, X, y, cv=5)\n",
        "\n",
        "# Print the cross-validation scores\n",
        "print(\"Cross-validation scores:\", scores)\n",
        "print(\"Mean score:\", np.mean(scores))\n",
        "\n",
        "\n"
      ]
    },
    {
      "cell_type": "code",
      "execution_count": null,
      "metadata": {
        "colab": {
          "base_uri": "https://localhost:8080/"
        },
        "id": "fqX7TLryXb89",
        "outputId": "d2bdd6c8-1384-44c1-b3ce-537aa3c97a5a"
      },
      "outputs": [
        {
          "name": "stdout",
          "output_type": "stream",
          "text": [
            "Number of training set samples.  110976\n",
            "Number of training set labels.  409\n"
          ]
        }
      ],
      "source": [
        "print(\"Number of training set samples. \", len(X_train))\n",
        "print(\"Number of training set labels. \", len(y_train))\n",
        "\n"
      ]
    },
    {
      "cell_type": "markdown",
      "metadata": {
        "id": "yuwcGAJIOAAT"
      },
      "source": [
        "DBSCAN"
      ]
    },
    {
      "cell_type": "code",
      "execution_count": null,
      "metadata": {
        "colab": {
          "base_uri": "https://localhost:8080/"
        },
        "id": "YCkAmMTcN-6p",
        "outputId": "b0c088c0-dd7a-4cb8-8fa3-5c66762cbfaf"
      },
      "outputs": [
        {
          "name": "stdout",
          "output_type": "stream",
          "text": [
            "Average Accuracy: 0.921875\n",
            "Average Precision: 1.0\n",
            "Average Recall: 0.921875\n",
            "Average F1 Score: 0.959349593495935\n"
          ]
        },
        {
          "name": "stderr",
          "output_type": "stream",
          "text": [
            "/usr/local/lib/python3.10/dist-packages/sklearn/metrics/_classification.py:1344: UndefinedMetricWarning: Recall is ill-defined and being set to 0.0 in labels with no true samples. Use `zero_division` parameter to control this behavior.\n",
            "  _warn_prf(average, modifier, msg_start, len(result))\n"
          ]
        }
      ],
      "source": [
        "from sklearn.cluster import DBSCAN\n",
        "from sklearn.metrics import accuracy_score, precision_score, recall_score, f1_score\n",
        "\n",
        "# Define the batch size for processing the data\n",
        "batch_size = 128\n",
        "\n",
        "# Initialize the metrics lists\n",
        "accuracy_list = []\n",
        "precision_list = []\n",
        "recall_list = []\n",
        "f1_list = []\n",
        "\n",
        "# Create a DBSCAN model\n",
        "dbscan = DBSCAN(eps=0.5, min_samples=5)\n",
        "\n",
        "# Process the data in batches\n",
        "num_batches = int(np.ceil(X_test.shape[0] / batch_size))\n",
        "for i in range(num_batches):\n",
        "    start_idx = i * batch_size\n",
        "    end_idx = min((i + 1) * batch_size, X_test.shape[0])\n",
        "\n",
        "    # Get the current batch for testing\n",
        "    X_batch = X_test[start_idx:end_idx]\n",
        "    y_batch = labels_test[start_idx:end_idx]\n",
        "\n",
        "    # Fit the DBSCAN model on the current batch\n",
        "    dbscan.fit(X_batch)\n",
        "\n",
        "    # Predict the clusters for the current batch\n",
        "    y_pred = dbscan.labels_\n",
        "\n",
        "    # Calculate evaluation metrics for the current batch\n",
        "    accuracy = accuracy_score(y_batch, y_pred)\n",
        "    precision = precision_score(y_batch, y_pred, average='weighted')  # Update average parameter\n",
        "    recall = recall_score(y_batch, y_pred, average='weighted')  # Update average parameter\n",
        "    f1 = f1_score(y_batch, y_pred, average='weighted')  # Update average parameter\n",
        "\n",
        "    # Append the metrics to the respective lists\n",
        "    accuracy_list.append(accuracy)\n",
        "    precision_list.append(precision)\n",
        "    recall_list.append(recall)\n",
        "    f1_list.append(f1)\n",
        "\n",
        "    # Clear memory by deleting variables\n",
        "    del X_batch, y_batch, dbscan, y_pred\n",
        "\n",
        "    # Garbage collect to free up memory\n",
        "    import gc\n",
        "    gc.collect()\n",
        "\n",
        "    # Recreate the DBSCAN model\n",
        "    dbscan = DBSCAN(eps=0.5, min_samples=5)\n",
        "\n",
        "# Calculate the average metrics across all batches\n",
        "accuracy_avg = np.mean(accuracy_list)\n",
        "precision_avg = np.mean(precision_list)\n",
        "recall_avg = np.mean(recall_list)\n",
        "f1_avg = np.mean(f1_list)\n",
        "\n",
        "# Print the average evaluation metrics\n",
        "print(\"Average Accuracy:\", accuracy_avg)\n",
        "print(\"Average Precision:\", precision_avg)\n",
        "print(\"Average Recall:\", recall_avg)\n",
        "print(\"Average F1 Score:\", f1_avg)\n",
        "\n",
        "\n"
      ]
    },
    {
      "cell_type": "markdown",
      "metadata": {
        "id": "kj2WWX98PgY_"
      },
      "source": [
        "Spectral Clustering"
      ]
    },
    {
      "cell_type": "code",
      "execution_count": null,
      "metadata": {
        "colab": {
          "base_uri": "https://localhost:8080/"
        },
        "id": "M9jclGNiPYs7",
        "outputId": "6d30ab70-6fa4-45a5-b5b7-148dbedcd3c8"
      },
      "outputs": [
        {
          "name": "stdout",
          "output_type": "stream",
          "text": [
            "Spectral Clustering Evaluation Metrics:\n",
            "Accuracy: 0.2734375\n",
            "Precision: 1.0\n",
            "Recall: 0.2734375\n",
            "F1 Score: 0.4294478527607362\n"
          ]
        },
        {
          "name": "stderr",
          "output_type": "stream",
          "text": [
            "/usr/local/lib/python3.10/dist-packages/sklearn/metrics/_classification.py:1344: UndefinedMetricWarning: Recall is ill-defined and being set to 0.0 in labels with no true samples. Use `zero_division` parameter to control this behavior.\n",
            "  _warn_prf(average, modifier, msg_start, len(result))\n"
          ]
        }
      ],
      "source": [
        "from sklearn.cluster import SpectralClustering\n",
        "from sklearn.metrics import accuracy_score, precision_score, recall_score, f1_score\n",
        "import numpy as np\n",
        "\n",
        "# 定义训练数据集的大小\n",
        "train_size = min(5000, len(X_train))  # 根据可用RAM进行调整，这里假设为5000\n",
        "\n",
        "# 随机选择训练数据集的子集\n",
        "subset_indices = np.random.choice(X_train.shape[0], size=train_size, replace=False)\n",
        "subset_data = X_train[subset_indices]\n",
        "subset_labels = labels_train[subset_indices]\n",
        "\n",
        "# 训练 Spectral Clustering 模型\n",
        "spectral_clustering = SpectralClustering(n_clusters=10, random_state=42)\n",
        "spectral_clustering.fit(subset_data)\n",
        "train_labels_spectral = spectral_clustering.labels_\n",
        "\n",
        "# 对测试集进行聚类预测\n",
        "test_labels_spectral = []\n",
        "for sample in X_test:\n",
        "    closest_cluster_label = train_labels_spectral[np.argmin(pairwise_distances([sample], subset_data))]\n",
        "    predicted_class = np.argmax(np.bincount(subset_labels[train_labels_spectral == closest_cluster_label]))\n",
        "    test_labels_spectral.append(predicted_class)\n",
        "\n",
        "# 计算评估指标\n",
        "accuracy_spectral = accuracy_score(labels_test, test_labels_spectral)\n",
        "precision_spectral = precision_score(labels_test, test_labels_spectral, average='weighted')\n",
        "recall_spectral = recall_score(labels_test, test_labels_spectral, average='weighted')\n",
        "f1_spectral = f1_score(labels_test, test_labels_spectral, average='weighted')\n",
        "\n",
        "# 打印结果\n",
        "print(\"Spectral Clustering Evaluation Metrics:\")\n",
        "print(\"Accuracy: {}\".format(accuracy_spectral))\n",
        "print(\"Precision: {}\".format(precision_spectral))\n",
        "print(\"Recall: {}\".format(recall_spectral))\n",
        "print(\"F1 Score: {}\".format(f1_spectral))\n",
        "\n"
      ]
    },
    {
      "cell_type": "markdown",
      "metadata": {
        "id": "NPahJPzNeHU2"
      },
      "source": [
        "The Constrained Laplacian Rank Algorithm"
      ]
    },
    {
      "cell_type": "code",
      "execution_count": null,
      "metadata": {
        "colab": {
          "base_uri": "https://localhost:8080/"
        },
        "id": "vhnDuPA7eJA0",
        "outputId": "6c818321-0f2e-4393-c8aa-3da744897984"
      },
      "outputs": [
        {
          "name": "stderr",
          "output_type": "stream",
          "text": [
            "/usr/local/lib/python3.10/dist-packages/sklearn/manifold/_spectral_embedding.py:274: UserWarning: Graph is not fully connected, spectral embedding may not work as expected.\n",
            "  warnings.warn(\n",
            "/usr/local/lib/python3.10/dist-packages/sklearn/manifold/_spectral_embedding.py:274: UserWarning: Graph is not fully connected, spectral embedding may not work as expected.\n",
            "  warnings.warn(\n",
            "/usr/local/lib/python3.10/dist-packages/sklearn/manifold/_spectral_embedding.py:274: UserWarning: Graph is not fully connected, spectral embedding may not work as expected.\n",
            "  warnings.warn(\n",
            "/usr/local/lib/python3.10/dist-packages/sklearn/manifold/_spectral_embedding.py:274: UserWarning: Graph is not fully connected, spectral embedding may not work as expected.\n",
            "  warnings.warn(\n",
            "/usr/local/lib/python3.10/dist-packages/sklearn/manifold/_spectral_embedding.py:274: UserWarning: Graph is not fully connected, spectral embedding may not work as expected.\n",
            "  warnings.warn(\n",
            "/usr/local/lib/python3.10/dist-packages/sklearn/manifold/_spectral_embedding.py:274: UserWarning: Graph is not fully connected, spectral embedding may not work as expected.\n",
            "  warnings.warn(\n",
            "/usr/local/lib/python3.10/dist-packages/sklearn/manifold/_spectral_embedding.py:274: UserWarning: Graph is not fully connected, spectral embedding may not work as expected.\n",
            "  warnings.warn(\n",
            "/usr/local/lib/python3.10/dist-packages/sklearn/manifold/_spectral_embedding.py:274: UserWarning: Graph is not fully connected, spectral embedding may not work as expected.\n",
            "  warnings.warn(\n",
            "/usr/local/lib/python3.10/dist-packages/sklearn/manifold/_spectral_embedding.py:274: UserWarning: Graph is not fully connected, spectral embedding may not work as expected.\n",
            "  warnings.warn(\n",
            "/usr/local/lib/python3.10/dist-packages/sklearn/manifold/_spectral_embedding.py:274: UserWarning: Graph is not fully connected, spectral embedding may not work as expected.\n",
            "  warnings.warn(\n",
            "/usr/local/lib/python3.10/dist-packages/sklearn/manifold/_spectral_embedding.py:274: UserWarning: Graph is not fully connected, spectral embedding may not work as expected.\n",
            "  warnings.warn(\n",
            "/usr/local/lib/python3.10/dist-packages/sklearn/manifold/_spectral_embedding.py:274: UserWarning: Graph is not fully connected, spectral embedding may not work as expected.\n",
            "  warnings.warn(\n",
            "/usr/local/lib/python3.10/dist-packages/sklearn/manifold/_spectral_embedding.py:274: UserWarning: Graph is not fully connected, spectral embedding may not work as expected.\n",
            "  warnings.warn(\n",
            "/usr/local/lib/python3.10/dist-packages/sklearn/manifold/_spectral_embedding.py:274: UserWarning: Graph is not fully connected, spectral embedding may not work as expected.\n",
            "  warnings.warn(\n",
            "/usr/local/lib/python3.10/dist-packages/sklearn/manifold/_spectral_embedding.py:274: UserWarning: Graph is not fully connected, spectral embedding may not work as expected.\n",
            "  warnings.warn(\n",
            "/usr/local/lib/python3.10/dist-packages/sklearn/manifold/_spectral_embedding.py:274: UserWarning: Graph is not fully connected, spectral embedding may not work as expected.\n",
            "  warnings.warn(\n",
            "/usr/local/lib/python3.10/dist-packages/sklearn/manifold/_spectral_embedding.py:274: UserWarning: Graph is not fully connected, spectral embedding may not work as expected.\n",
            "  warnings.warn(\n",
            "/usr/local/lib/python3.10/dist-packages/sklearn/manifold/_spectral_embedding.py:274: UserWarning: Graph is not fully connected, spectral embedding may not work as expected.\n",
            "  warnings.warn(\n",
            "/usr/local/lib/python3.10/dist-packages/sklearn/manifold/_spectral_embedding.py:274: UserWarning: Graph is not fully connected, spectral embedding may not work as expected.\n",
            "  warnings.warn(\n",
            "/usr/local/lib/python3.10/dist-packages/sklearn/manifold/_spectral_embedding.py:274: UserWarning: Graph is not fully connected, spectral embedding may not work as expected.\n",
            "  warnings.warn(\n",
            "/usr/local/lib/python3.10/dist-packages/sklearn/manifold/_spectral_embedding.py:274: UserWarning: Graph is not fully connected, spectral embedding may not work as expected.\n",
            "  warnings.warn(\n",
            "/usr/local/lib/python3.10/dist-packages/sklearn/manifold/_spectral_embedding.py:274: UserWarning: Graph is not fully connected, spectral embedding may not work as expected.\n",
            "  warnings.warn(\n",
            "/usr/local/lib/python3.10/dist-packages/sklearn/manifold/_spectral_embedding.py:274: UserWarning: Graph is not fully connected, spectral embedding may not work as expected.\n",
            "  warnings.warn(\n",
            "/usr/local/lib/python3.10/dist-packages/sklearn/manifold/_spectral_embedding.py:274: UserWarning: Graph is not fully connected, spectral embedding may not work as expected.\n",
            "  warnings.warn(\n",
            "/usr/local/lib/python3.10/dist-packages/sklearn/manifold/_spectral_embedding.py:274: UserWarning: Graph is not fully connected, spectral embedding may not work as expected.\n",
            "  warnings.warn(\n",
            "/usr/local/lib/python3.10/dist-packages/sklearn/manifold/_spectral_embedding.py:274: UserWarning: Graph is not fully connected, spectral embedding may not work as expected.\n",
            "  warnings.warn(\n",
            "/usr/local/lib/python3.10/dist-packages/sklearn/manifold/_spectral_embedding.py:274: UserWarning: Graph is not fully connected, spectral embedding may not work as expected.\n",
            "  warnings.warn(\n",
            "/usr/local/lib/python3.10/dist-packages/sklearn/manifold/_spectral_embedding.py:274: UserWarning: Graph is not fully connected, spectral embedding may not work as expected.\n",
            "  warnings.warn(\n",
            "/usr/local/lib/python3.10/dist-packages/sklearn/manifold/_spectral_embedding.py:274: UserWarning: Graph is not fully connected, spectral embedding may not work as expected.\n",
            "  warnings.warn(\n",
            "/usr/local/lib/python3.10/dist-packages/sklearn/manifold/_spectral_embedding.py:274: UserWarning: Graph is not fully connected, spectral embedding may not work as expected.\n",
            "  warnings.warn(\n",
            "/usr/local/lib/python3.10/dist-packages/sklearn/manifold/_spectral_embedding.py:274: UserWarning: Graph is not fully connected, spectral embedding may not work as expected.\n",
            "  warnings.warn(\n",
            "/usr/local/lib/python3.10/dist-packages/sklearn/manifold/_spectral_embedding.py:274: UserWarning: Graph is not fully connected, spectral embedding may not work as expected.\n",
            "  warnings.warn(\n",
            "/usr/local/lib/python3.10/dist-packages/sklearn/manifold/_spectral_embedding.py:274: UserWarning: Graph is not fully connected, spectral embedding may not work as expected.\n",
            "  warnings.warn(\n",
            "/usr/local/lib/python3.10/dist-packages/sklearn/manifold/_spectral_embedding.py:274: UserWarning: Graph is not fully connected, spectral embedding may not work as expected.\n",
            "  warnings.warn(\n",
            "/usr/local/lib/python3.10/dist-packages/sklearn/manifold/_spectral_embedding.py:274: UserWarning: Graph is not fully connected, spectral embedding may not work as expected.\n",
            "  warnings.warn(\n",
            "/usr/local/lib/python3.10/dist-packages/sklearn/manifold/_spectral_embedding.py:274: UserWarning: Graph is not fully connected, spectral embedding may not work as expected.\n",
            "  warnings.warn(\n",
            "/usr/local/lib/python3.10/dist-packages/sklearn/manifold/_spectral_embedding.py:274: UserWarning: Graph is not fully connected, spectral embedding may not work as expected.\n",
            "  warnings.warn(\n",
            "/usr/local/lib/python3.10/dist-packages/sklearn/manifold/_spectral_embedding.py:274: UserWarning: Graph is not fully connected, spectral embedding may not work as expected.\n",
            "  warnings.warn(\n",
            "/usr/local/lib/python3.10/dist-packages/sklearn/manifold/_spectral_embedding.py:274: UserWarning: Graph is not fully connected, spectral embedding may not work as expected.\n",
            "  warnings.warn(\n",
            "/usr/local/lib/python3.10/dist-packages/sklearn/manifold/_spectral_embedding.py:274: UserWarning: Graph is not fully connected, spectral embedding may not work as expected.\n",
            "  warnings.warn(\n",
            "/usr/local/lib/python3.10/dist-packages/sklearn/manifold/_spectral_embedding.py:274: UserWarning: Graph is not fully connected, spectral embedding may not work as expected.\n",
            "  warnings.warn(\n",
            "/usr/local/lib/python3.10/dist-packages/sklearn/manifold/_spectral_embedding.py:274: UserWarning: Graph is not fully connected, spectral embedding may not work as expected.\n",
            "  warnings.warn(\n",
            "/usr/local/lib/python3.10/dist-packages/sklearn/manifold/_spectral_embedding.py:274: UserWarning: Graph is not fully connected, spectral embedding may not work as expected.\n",
            "  warnings.warn(\n",
            "/usr/local/lib/python3.10/dist-packages/sklearn/manifold/_spectral_embedding.py:274: UserWarning: Graph is not fully connected, spectral embedding may not work as expected.\n",
            "  warnings.warn(\n",
            "/usr/local/lib/python3.10/dist-packages/sklearn/manifold/_spectral_embedding.py:274: UserWarning: Graph is not fully connected, spectral embedding may not work as expected.\n",
            "  warnings.warn(\n",
            "/usr/local/lib/python3.10/dist-packages/sklearn/manifold/_spectral_embedding.py:274: UserWarning: Graph is not fully connected, spectral embedding may not work as expected.\n",
            "  warnings.warn(\n",
            "/usr/local/lib/python3.10/dist-packages/sklearn/manifold/_spectral_embedding.py:274: UserWarning: Graph is not fully connected, spectral embedding may not work as expected.\n",
            "  warnings.warn(\n",
            "/usr/local/lib/python3.10/dist-packages/sklearn/manifold/_spectral_embedding.py:274: UserWarning: Graph is not fully connected, spectral embedding may not work as expected.\n",
            "  warnings.warn(\n",
            "/usr/local/lib/python3.10/dist-packages/sklearn/manifold/_spectral_embedding.py:274: UserWarning: Graph is not fully connected, spectral embedding may not work as expected.\n",
            "  warnings.warn(\n",
            "/usr/local/lib/python3.10/dist-packages/sklearn/manifold/_spectral_embedding.py:274: UserWarning: Graph is not fully connected, spectral embedding may not work as expected.\n",
            "  warnings.warn(\n",
            "/usr/local/lib/python3.10/dist-packages/sklearn/manifold/_spectral_embedding.py:274: UserWarning: Graph is not fully connected, spectral embedding may not work as expected.\n",
            "  warnings.warn(\n",
            "/usr/local/lib/python3.10/dist-packages/sklearn/manifold/_spectral_embedding.py:274: UserWarning: Graph is not fully connected, spectral embedding may not work as expected.\n",
            "  warnings.warn(\n",
            "/usr/local/lib/python3.10/dist-packages/sklearn/manifold/_spectral_embedding.py:274: UserWarning: Graph is not fully connected, spectral embedding may not work as expected.\n",
            "  warnings.warn(\n",
            "/usr/local/lib/python3.10/dist-packages/sklearn/manifold/_spectral_embedding.py:274: UserWarning: Graph is not fully connected, spectral embedding may not work as expected.\n",
            "  warnings.warn(\n",
            "/usr/local/lib/python3.10/dist-packages/sklearn/manifold/_spectral_embedding.py:274: UserWarning: Graph is not fully connected, spectral embedding may not work as expected.\n",
            "  warnings.warn(\n",
            "/usr/local/lib/python3.10/dist-packages/sklearn/manifold/_spectral_embedding.py:274: UserWarning: Graph is not fully connected, spectral embedding may not work as expected.\n",
            "  warnings.warn(\n",
            "/usr/local/lib/python3.10/dist-packages/sklearn/manifold/_spectral_embedding.py:274: UserWarning: Graph is not fully connected, spectral embedding may not work as expected.\n",
            "  warnings.warn(\n",
            "/usr/local/lib/python3.10/dist-packages/sklearn/manifold/_spectral_embedding.py:274: UserWarning: Graph is not fully connected, spectral embedding may not work as expected.\n",
            "  warnings.warn(\n",
            "/usr/local/lib/python3.10/dist-packages/sklearn/manifold/_spectral_embedding.py:274: UserWarning: Graph is not fully connected, spectral embedding may not work as expected.\n",
            "  warnings.warn(\n",
            "/usr/local/lib/python3.10/dist-packages/sklearn/manifold/_spectral_embedding.py:274: UserWarning: Graph is not fully connected, spectral embedding may not work as expected.\n",
            "  warnings.warn(\n",
            "/usr/local/lib/python3.10/dist-packages/sklearn/manifold/_spectral_embedding.py:274: UserWarning: Graph is not fully connected, spectral embedding may not work as expected.\n",
            "  warnings.warn(\n",
            "/usr/local/lib/python3.10/dist-packages/sklearn/manifold/_spectral_embedding.py:274: UserWarning: Graph is not fully connected, spectral embedding may not work as expected.\n",
            "  warnings.warn(\n",
            "/usr/local/lib/python3.10/dist-packages/sklearn/manifold/_spectral_embedding.py:274: UserWarning: Graph is not fully connected, spectral embedding may not work as expected.\n",
            "  warnings.warn(\n",
            "/usr/local/lib/python3.10/dist-packages/sklearn/manifold/_spectral_embedding.py:274: UserWarning: Graph is not fully connected, spectral embedding may not work as expected.\n",
            "  warnings.warn(\n",
            "/usr/local/lib/python3.10/dist-packages/sklearn/manifold/_spectral_embedding.py:274: UserWarning: Graph is not fully connected, spectral embedding may not work as expected.\n",
            "  warnings.warn(\n",
            "/usr/local/lib/python3.10/dist-packages/sklearn/manifold/_spectral_embedding.py:274: UserWarning: Graph is not fully connected, spectral embedding may not work as expected.\n",
            "  warnings.warn(\n",
            "/usr/local/lib/python3.10/dist-packages/sklearn/manifold/_spectral_embedding.py:274: UserWarning: Graph is not fully connected, spectral embedding may not work as expected.\n",
            "  warnings.warn(\n",
            "/usr/local/lib/python3.10/dist-packages/sklearn/manifold/_spectral_embedding.py:274: UserWarning: Graph is not fully connected, spectral embedding may not work as expected.\n",
            "  warnings.warn(\n",
            "/usr/local/lib/python3.10/dist-packages/sklearn/manifold/_spectral_embedding.py:274: UserWarning: Graph is not fully connected, spectral embedding may not work as expected.\n",
            "  warnings.warn(\n",
            "/usr/local/lib/python3.10/dist-packages/sklearn/manifold/_spectral_embedding.py:274: UserWarning: Graph is not fully connected, spectral embedding may not work as expected.\n",
            "  warnings.warn(\n",
            "/usr/local/lib/python3.10/dist-packages/sklearn/manifold/_spectral_embedding.py:274: UserWarning: Graph is not fully connected, spectral embedding may not work as expected.\n",
            "  warnings.warn(\n",
            "/usr/local/lib/python3.10/dist-packages/sklearn/manifold/_spectral_embedding.py:274: UserWarning: Graph is not fully connected, spectral embedding may not work as expected.\n",
            "  warnings.warn(\n",
            "/usr/local/lib/python3.10/dist-packages/sklearn/manifold/_spectral_embedding.py:274: UserWarning: Graph is not fully connected, spectral embedding may not work as expected.\n",
            "  warnings.warn(\n",
            "/usr/local/lib/python3.10/dist-packages/sklearn/manifold/_spectral_embedding.py:274: UserWarning: Graph is not fully connected, spectral embedding may not work as expected.\n",
            "  warnings.warn(\n",
            "/usr/local/lib/python3.10/dist-packages/sklearn/manifold/_spectral_embedding.py:274: UserWarning: Graph is not fully connected, spectral embedding may not work as expected.\n",
            "  warnings.warn(\n",
            "/usr/local/lib/python3.10/dist-packages/sklearn/manifold/_spectral_embedding.py:274: UserWarning: Graph is not fully connected, spectral embedding may not work as expected.\n",
            "  warnings.warn(\n",
            "/usr/local/lib/python3.10/dist-packages/sklearn/manifold/_spectral_embedding.py:274: UserWarning: Graph is not fully connected, spectral embedding may not work as expected.\n",
            "  warnings.warn(\n",
            "/usr/local/lib/python3.10/dist-packages/sklearn/manifold/_spectral_embedding.py:274: UserWarning: Graph is not fully connected, spectral embedding may not work as expected.\n",
            "  warnings.warn(\n",
            "/usr/local/lib/python3.10/dist-packages/sklearn/manifold/_spectral_embedding.py:274: UserWarning: Graph is not fully connected, spectral embedding may not work as expected.\n",
            "  warnings.warn(\n",
            "/usr/local/lib/python3.10/dist-packages/sklearn/manifold/_spectral_embedding.py:274: UserWarning: Graph is not fully connected, spectral embedding may not work as expected.\n",
            "  warnings.warn(\n",
            "/usr/local/lib/python3.10/dist-packages/sklearn/manifold/_spectral_embedding.py:274: UserWarning: Graph is not fully connected, spectral embedding may not work as expected.\n",
            "  warnings.warn(\n",
            "/usr/local/lib/python3.10/dist-packages/sklearn/manifold/_spectral_embedding.py:274: UserWarning: Graph is not fully connected, spectral embedding may not work as expected.\n",
            "  warnings.warn(\n",
            "/usr/local/lib/python3.10/dist-packages/sklearn/manifold/_spectral_embedding.py:274: UserWarning: Graph is not fully connected, spectral embedding may not work as expected.\n",
            "  warnings.warn(\n",
            "/usr/local/lib/python3.10/dist-packages/sklearn/manifold/_spectral_embedding.py:274: UserWarning: Graph is not fully connected, spectral embedding may not work as expected.\n",
            "  warnings.warn(\n",
            "/usr/local/lib/python3.10/dist-packages/sklearn/manifold/_spectral_embedding.py:274: UserWarning: Graph is not fully connected, spectral embedding may not work as expected.\n",
            "  warnings.warn(\n",
            "/usr/local/lib/python3.10/dist-packages/sklearn/manifold/_spectral_embedding.py:274: UserWarning: Graph is not fully connected, spectral embedding may not work as expected.\n",
            "  warnings.warn(\n",
            "/usr/local/lib/python3.10/dist-packages/sklearn/manifold/_spectral_embedding.py:274: UserWarning: Graph is not fully connected, spectral embedding may not work as expected.\n",
            "  warnings.warn(\n",
            "/usr/local/lib/python3.10/dist-packages/sklearn/manifold/_spectral_embedding.py:274: UserWarning: Graph is not fully connected, spectral embedding may not work as expected.\n",
            "  warnings.warn(\n",
            "/usr/local/lib/python3.10/dist-packages/sklearn/manifold/_spectral_embedding.py:274: UserWarning: Graph is not fully connected, spectral embedding may not work as expected.\n",
            "  warnings.warn(\n",
            "/usr/local/lib/python3.10/dist-packages/sklearn/manifold/_spectral_embedding.py:274: UserWarning: Graph is not fully connected, spectral embedding may not work as expected.\n",
            "  warnings.warn(\n",
            "/usr/local/lib/python3.10/dist-packages/sklearn/manifold/_spectral_embedding.py:274: UserWarning: Graph is not fully connected, spectral embedding may not work as expected.\n",
            "  warnings.warn(\n",
            "/usr/local/lib/python3.10/dist-packages/sklearn/manifold/_spectral_embedding.py:274: UserWarning: Graph is not fully connected, spectral embedding may not work as expected.\n",
            "  warnings.warn(\n",
            "/usr/local/lib/python3.10/dist-packages/sklearn/manifold/_spectral_embedding.py:274: UserWarning: Graph is not fully connected, spectral embedding may not work as expected.\n",
            "  warnings.warn(\n",
            "/usr/local/lib/python3.10/dist-packages/sklearn/manifold/_spectral_embedding.py:274: UserWarning: Graph is not fully connected, spectral embedding may not work as expected.\n",
            "  warnings.warn(\n",
            "/usr/local/lib/python3.10/dist-packages/sklearn/manifold/_spectral_embedding.py:274: UserWarning: Graph is not fully connected, spectral embedding may not work as expected.\n",
            "  warnings.warn(\n",
            "/usr/local/lib/python3.10/dist-packages/sklearn/manifold/_spectral_embedding.py:274: UserWarning: Graph is not fully connected, spectral embedding may not work as expected.\n",
            "  warnings.warn(\n",
            "/usr/local/lib/python3.10/dist-packages/sklearn/manifold/_spectral_embedding.py:274: UserWarning: Graph is not fully connected, spectral embedding may not work as expected.\n",
            "  warnings.warn(\n",
            "/usr/local/lib/python3.10/dist-packages/sklearn/manifold/_spectral_embedding.py:274: UserWarning: Graph is not fully connected, spectral embedding may not work as expected.\n",
            "  warnings.warn(\n",
            "/usr/local/lib/python3.10/dist-packages/sklearn/manifold/_spectral_embedding.py:274: UserWarning: Graph is not fully connected, spectral embedding may not work as expected.\n",
            "  warnings.warn(\n",
            "/usr/local/lib/python3.10/dist-packages/sklearn/manifold/_spectral_embedding.py:274: UserWarning: Graph is not fully connected, spectral embedding may not work as expected.\n",
            "  warnings.warn(\n",
            "/usr/local/lib/python3.10/dist-packages/sklearn/manifold/_spectral_embedding.py:274: UserWarning: Graph is not fully connected, spectral embedding may not work as expected.\n",
            "  warnings.warn(\n",
            "/usr/local/lib/python3.10/dist-packages/sklearn/manifold/_spectral_embedding.py:274: UserWarning: Graph is not fully connected, spectral embedding may not work as expected.\n",
            "  warnings.warn(\n",
            "/usr/local/lib/python3.10/dist-packages/sklearn/manifold/_spectral_embedding.py:274: UserWarning: Graph is not fully connected, spectral embedding may not work as expected.\n",
            "  warnings.warn(\n",
            "/usr/local/lib/python3.10/dist-packages/sklearn/manifold/_spectral_embedding.py:274: UserWarning: Graph is not fully connected, spectral embedding may not work as expected.\n",
            "  warnings.warn(\n",
            "/usr/local/lib/python3.10/dist-packages/sklearn/manifold/_spectral_embedding.py:274: UserWarning: Graph is not fully connected, spectral embedding may not work as expected.\n",
            "  warnings.warn(\n",
            "/usr/local/lib/python3.10/dist-packages/sklearn/manifold/_spectral_embedding.py:274: UserWarning: Graph is not fully connected, spectral embedding may not work as expected.\n",
            "  warnings.warn(\n",
            "/usr/local/lib/python3.10/dist-packages/sklearn/manifold/_spectral_embedding.py:274: UserWarning: Graph is not fully connected, spectral embedding may not work as expected.\n",
            "  warnings.warn(\n",
            "/usr/local/lib/python3.10/dist-packages/sklearn/manifold/_spectral_embedding.py:274: UserWarning: Graph is not fully connected, spectral embedding may not work as expected.\n",
            "  warnings.warn(\n",
            "/usr/local/lib/python3.10/dist-packages/sklearn/manifold/_spectral_embedding.py:274: UserWarning: Graph is not fully connected, spectral embedding may not work as expected.\n",
            "  warnings.warn(\n",
            "/usr/local/lib/python3.10/dist-packages/sklearn/manifold/_spectral_embedding.py:274: UserWarning: Graph is not fully connected, spectral embedding may not work as expected.\n",
            "  warnings.warn(\n",
            "/usr/local/lib/python3.10/dist-packages/sklearn/manifold/_spectral_embedding.py:274: UserWarning: Graph is not fully connected, spectral embedding may not work as expected.\n",
            "  warnings.warn(\n"
          ]
        },
        {
          "name": "stdout",
          "output_type": "stream",
          "text": [
            "Spectral Clustering Evaluation Metrics:\n",
            "Weighted Accuracy: 1.0\n",
            "Weighted Precision: 1.0\n",
            "Weighted Recall: 1.0\n",
            "Weighted F1 Score: 1.0\n"
          ]
        }
      ],
      "source": [
        "import numpy as np\n",
        "from sklearn.metrics.pairwise import pairwise_distances\n",
        "from sklearn.cluster import SpectralClustering\n",
        "from sklearn.metrics import accuracy_score, precision_score, recall_score, f1_score\n",
        "from scipy.sparse import lil_matrix\n",
        "\n",
        "# Define the number of clusters\n",
        "num_clusters = 16  # You can adjust the number of clusters as needed\n",
        "\n",
        "\n",
        "# Define the value of sigma (adjust according to  data)\n",
        "sigma = 1.0\n",
        "\n",
        "# Construct the similarity graph\n",
        "similarity_graph = lil_matrix((X_train.shape[0], X_train.shape[0]), dtype=np.float32)\n",
        "\n",
        "# Function to generate batches of data\n",
        "def generate_batches(X, batch_size):\n",
        "    num_samples = X.shape[0]\n",
        "    num_batches = num_samples // batch_size\n",
        "    if num_samples % batch_size != 0:\n",
        "        num_batches += 1\n",
        "\n",
        "    for batch_idx in range(num_batches):\n",
        "        start_idx = batch_idx * batch_size\n",
        "        end_idx = min((batch_idx + 1) * batch_size, num_samples)\n",
        "        yield X[start_idx:end_idx]\n",
        "\n",
        "# Perform spectral clustering\n",
        "spectral = SpectralClustering(n_clusters=num_clusters, affinity='precomputed')\n",
        "\n",
        "for batch in generate_batches(X_train, batch_size=1000):\n",
        "    # Construct the similarity graph for the current batch\n",
        "    similarity_matrix = pairwise_distances(batch, metric='euclidean')\n",
        "    similarity_graph_batch = np.exp(-similarity_matrix ** 2 / (2 * sigma ** 2))\n",
        "\n",
        "    # Update the similarity graph\n",
        "    similarity_graph[np.ix_(range(batch.shape[0]), range(batch.shape[0]))] = similarity_graph_batch\n",
        "\n",
        "    # Fit the spectral clustering model on the current batch\n",
        "    labels_train_spectral = spectral.fit_predict(similarity_graph)\n",
        "\n",
        "# Establish connections between clusters and classes (CLaRA)\n",
        "connections = {}\n",
        "for cluster_label in range(num_clusters):\n",
        "    # Find the samples belonging to the current cluster\n",
        "    cluster_indices = np.where(labels_train_spectral == cluster_label)[0]\n",
        "    cluster_classes = labels_train[cluster_indices]\n",
        "    # Calculate the unique classes and their frequencies within the cluster\n",
        "    unique_classes, class_counts = np.unique(cluster_classes, return_counts=True)\n",
        "    # Assign the dominant class as the class with the highest frequency\n",
        "    dominant_class = unique_classes[np.argmax(class_counts)]\n",
        "    # Store the mapping between cluster label and dominant class\n",
        "    connections[cluster_label] = dominant_class\n",
        "\n",
        "# Classify the test set based on the learned connections\n",
        "test_labels_spectral = []\n",
        "for sample in X_test:\n",
        "    # Find the closest cluster label to the test sample\n",
        "    distances = np.linalg.norm(X_train - sample, axis=1)\n",
        "    closest_cluster_label = labels_train_spectral[np.argmin(distances)]\n",
        "    # Retrieve the dominant class associated with the closest cluster label\n",
        "    predicted_class = connections[closest_cluster_label]\n",
        "    # Append the predicted class to the test labels\n",
        "    test_labels_spectral.append(predicted_class)\n",
        "\n",
        "# Calculate weighted evaluation metrics\n",
        "accuracy_spectral_weighted = accuracy_score(labels_test, test_labels_spectral)\n",
        "precision_spectral_weighted = precision_score(labels_test, test_labels_spectral, average='weighted')\n",
        "recall_spectral_weighted = recall_score(labels_test, test_labels_spectral, average='weighted')\n",
        "f1_spectral_weighted = f1_score(labels_test, test_labels_spectral, average='weighted')\n",
        "\n",
        "# Print the results\n",
        "print(\"Spectral Clustering Evaluation Metrics:\")\n",
        "print(\"Weighted Accuracy: {}\".format(accuracy_spectral_weighted))\n",
        "print(\"Weighted Precision: {}\".format(precision_spectral_weighted))\n",
        "print(\"Weighted Recall: {}\".format(recall_spectral_weighted))\n",
        "print(\"Weighted F1 Score: {}\".format(f1_spectral_weighted))\n",
        "\n",
        "\n",
        "\n",
        "\n"
      ]
    },
    {
      "cell_type": "code",
      "execution_count": 10,
      "metadata": {
        "colab": {
          "base_uri": "https://localhost:8080/"
        },
        "id": "bDbiHAAP4oGo",
        "outputId": "8ad332f1-b726-4cee-b00f-88edb353efdc"
      },
      "outputs": [
        {
          "output_type": "stream",
          "name": "stdout",
          "text": [
            "Similarity Matrix:\n",
            "[[0.         0.01785796 0.04407631 ... 0.         0.         0.        ]\n",
            " [0.01785796 0.         0.04254099 ... 0.         0.         0.        ]\n",
            " [0.04407631 0.04254099 0.         ... 0.         0.         0.        ]\n",
            " ...\n",
            " [0.         0.         0.         ... 0.         0.01421215 0.02303759]\n",
            " [0.         0.         0.         ... 0.01421215 0.         0.02432158]\n",
            " [0.         0.         0.         ... 0.02303759 0.02432158 0.        ]]\n"
          ]
        }
      ],
      "source": [
        "import numpy as np\n",
        "from scipy.spatial.distance import euclidean\n",
        "from sklearn.cluster import SpectralClustering\n",
        "from sklearn.metrics import accuracy_score, precision_score, recall_score, f1_score\n",
        "#Step 1: Construct the data graph\n",
        "def euclidean_distance_batch(data_batch):\n",
        "    num_samples = data_batch.shape[0]\n",
        "    similarity_matrix_batch = np.zeros((num_samples, num_samples))\n",
        "\n",
        "    for i in range(num_samples):\n",
        "        for j in range(i+1, num_samples):\n",
        "            similarity_matrix_batch[i, j] = euclidean(data_batch[i], data_batch[j])\n",
        "            similarity_matrix_batch[j, i] = similarity_matrix_batch[i, j]\n",
        "\n",
        "    return similarity_matrix_batch\n",
        "\n",
        "batch_size = 1000  # Adjust the batch size based on available memory\n",
        "num_samples = X.shape[0]\n",
        "num_batches = num_samples // batch_size + 1\n",
        "\n",
        "similarity_matrix = np.zeros((num_samples, num_samples))\n",
        "\n",
        "for batch_index in range(num_batches):\n",
        "    start_index = batch_index * batch_size\n",
        "    end_index = min((batch_index + 1) * batch_size, num_samples)\n",
        "    data_batch = X[start_index:end_index]\n",
        "    similarity_matrix_batch = euclidean_distance_batch(data_batch)\n",
        "    similarity_matrix[start_index:end_index, start_index:end_index] = similarity_matrix_batch\n",
        "\n",
        "print(\"Similarity Matrix:\")\n",
        "print(similarity_matrix)\n"
      ]
    },
    {
      "cell_type": "code",
      "execution_count": 11,
      "metadata": {
        "colab": {
          "base_uri": "https://localhost:8080/"
        },
        "id": "ogSyV4r2_DUV",
        "outputId": "4c2cccc0-06f3-4deb-c74d-a3312f2190a8"
      },
      "outputs": [
        {
          "output_type": "stream",
          "name": "stdout",
          "text": [
            "Adjacency Matrix:\n",
            "[[0 1 1 ... 0 0 0]\n",
            " [1 0 1 ... 0 0 0]\n",
            " [1 1 0 ... 0 0 0]\n",
            " ...\n",
            " [1 1 1 ... 0 1 1]\n",
            " [1 1 1 ... 1 0 1]\n",
            " [1 1 1 ... 1 1 0]]\n"
          ]
        }
      ],
      "source": [
        "#Step 2: Construct the adjacency matrix\n",
        "from scipy.spatial.distance import euclidean\n",
        "from scipy import sparse\n",
        "import numpy as np\n",
        "\n",
        "def euclidean_distance(x, y):\n",
        "    return euclidean(x, y)\n",
        "\n",
        "def construct_similarity_matrix(data):\n",
        "    num_samples = data.shape[0]\n",
        "    similarity_matrix = np.zeros((num_samples, num_samples))\n",
        "\n",
        "    for i in range(num_samples):\n",
        "        for j in range(i+1, num_samples):\n",
        "            similarity_matrix[i, j] = euclidean_distance(data[i], data[j])\n",
        "            similarity_matrix[j, i] = similarity_matrix[i, j]\n",
        "\n",
        "    return similarity_matrix\n",
        "\n",
        "def construct_adjacency_matrix(similarity_matrix, epsilon):\n",
        "    adjacency_matrix = sparse.csr_matrix(similarity_matrix <= epsilon, dtype=np.int8)\n",
        "    adjacency_matrix.setdiag(0)  # Set diagonal elements to 0\n",
        "    return adjacency_matrix\n",
        "\n",
        "\n",
        "# Rest of the code\n",
        "\n",
        "# Split the data into smaller subsets\n",
        "epsilon = 0.5  # Adjust based on the desired similarity threshold\n",
        "num_subsets = 10  # Adjust the number of subsets based on available memory\n",
        "subset_size = len(X) // num_subsets\n",
        "\n",
        "adjacency_matrices = []\n",
        "for i in range(num_subsets):\n",
        "    subset_data = X[i * subset_size : (i + 1) * subset_size]\n",
        "    subset_similarity_matrix = construct_similarity_matrix(subset_data)\n",
        "    subset_adjacency_matrix = construct_adjacency_matrix(subset_similarity_matrix, epsilon)\n",
        "    adjacency_matrices.append(subset_adjacency_matrix)\n",
        "\n",
        "# Merge the adjacency matrices from all subsets\n",
        "adjacency_matrix = sparse.vstack(adjacency_matrices)\n",
        "\n",
        "print(\"Adjacency Matrix:\")\n",
        "print(adjacency_matrix.toarray())  # Convert to dense matrix for printing\n",
        "\n",
        "\n"
      ]
    },
    {
      "cell_type": "code",
      "execution_count": 12,
      "metadata": {
        "id": "SeIr4YdP4tnn",
        "colab": {
          "base_uri": "https://localhost:8080/"
        },
        "outputId": "3bc5cc11-2fb6-4e4e-f830-f61f1d99e0ef"
      },
      "outputs": [
        {
          "output_type": "stream",
          "name": "stderr",
          "text": [
            "/usr/local/lib/python3.10/dist-packages/sklearn/cluster/_kmeans.py:870: FutureWarning: The default value of `n_init` will change from 10 to 'auto' in 1.4. Set the value of `n_init` explicitly to suppress the warning\n",
            "  warnings.warn(\n"
          ]
        },
        {
          "output_type": "stream",
          "name": "stdout",
          "text": [
            "Optimized Adjacency Matrix:\n",
            "[[0 1 1 ... 0 0 0]\n",
            " [1 0 1 ... 0 0 0]\n",
            " [1 1 0 ... 0 0 0]\n",
            " ...\n",
            " [0 0 0 ... 0 1 1]\n",
            " [0 0 0 ... 1 0 1]\n",
            " [0 0 0 ... 1 1 0]]\n"
          ]
        }
      ],
      "source": [
        "from sklearn.cluster import KMeans\n",
        "import numpy as np\n",
        "\n",
        "# Step 3: Optimize the data graph using CLR algorithm\n",
        "def clr_optimization(adjacency_matrix, k):\n",
        "    num_samples = adjacency_matrix.shape[0]\n",
        "    kmeans = KMeans(n_clusters=k)\n",
        "    labels = kmeans.fit_predict(adjacency_matrix)\n",
        "\n",
        "    optimized_adjacency_matrix = np.zeros((num_samples, num_samples), dtype=np.int8)\n",
        "    for i in range(num_samples):\n",
        "        for j in range(i+1, num_samples):\n",
        "            if labels[i] == labels[j]:\n",
        "                optimized_adjacency_matrix[i, j] = 1\n",
        "                optimized_adjacency_matrix[j, i] = 1\n",
        "\n",
        "    return optimized_adjacency_matrix\n",
        "\n",
        "k = 16  # The desired number of clusters\n",
        "\n",
        "# Split the adjacency matrix into smaller subsets\n",
        "subset_size = adjacency_matrix.shape[0] // 10  # Adjust the number of subsets based on available memory\n",
        "\n",
        "optimized_adjacency_matrices = []\n",
        "for i in range(0, adjacency_matrix.shape[0], subset_size):\n",
        "    subset_adjacency_matrix = adjacency_matrix[i:i+subset_size]\n",
        "    subset_optimized_adjacency_matrix = clr_optimization(subset_adjacency_matrix, k)\n",
        "    optimized_adjacency_matrices.append(subset_optimized_adjacency_matrix)\n",
        "\n",
        "# Merge the optimized adjacency matrices from all subsets\n",
        "optimized_adjacency_matrix = np.vstack(optimized_adjacency_matrices)\n",
        "\n",
        "print(\"Optimized Adjacency Matrix:\")\n",
        "print(optimized_adjacency_matrix)\n",
        "\n",
        "\n",
        "\n",
        "\n",
        "\n",
        "\n",
        "\n",
        "\n",
        "\n",
        "\n",
        "\n"
      ]
    },
    {
      "cell_type": "code",
      "execution_count": 13,
      "metadata": {
        "id": "PDwMi4Ty4tqT",
        "colab": {
          "base_uri": "https://localhost:8080/"
        },
        "outputId": "1e20ac4d-19a4-4fc1-db19-63f6e70c1f76"
      },
      "outputs": [
        {
          "output_type": "stream",
          "name": "stderr",
          "text": [
            "/usr/local/lib/python3.10/dist-packages/sklearn/cluster/_kmeans.py:870: FutureWarning: The default value of `n_init` will change from 3 to 'auto' in 1.4. Set the value of `n_init` explicitly to suppress the warning\n",
            "  warnings.warn(\n",
            "/usr/local/lib/python3.10/dist-packages/sklearn/cluster/_kmeans.py:870: FutureWarning: The default value of `n_init` will change from 3 to 'auto' in 1.4. Set the value of `n_init` explicitly to suppress the warning\n",
            "  warnings.warn(\n",
            "/usr/local/lib/python3.10/dist-packages/sklearn/cluster/_kmeans.py:870: FutureWarning: The default value of `n_init` will change from 3 to 'auto' in 1.4. Set the value of `n_init` explicitly to suppress the warning\n",
            "  warnings.warn(\n",
            "/usr/local/lib/python3.10/dist-packages/sklearn/cluster/_kmeans.py:870: FutureWarning: The default value of `n_init` will change from 3 to 'auto' in 1.4. Set the value of `n_init` explicitly to suppress the warning\n",
            "  warnings.warn(\n",
            "/usr/local/lib/python3.10/dist-packages/sklearn/cluster/_kmeans.py:870: FutureWarning: The default value of `n_init` will change from 3 to 'auto' in 1.4. Set the value of `n_init` explicitly to suppress the warning\n",
            "  warnings.warn(\n",
            "/usr/local/lib/python3.10/dist-packages/sklearn/cluster/_kmeans.py:870: FutureWarning: The default value of `n_init` will change from 3 to 'auto' in 1.4. Set the value of `n_init` explicitly to suppress the warning\n",
            "  warnings.warn(\n",
            "/usr/local/lib/python3.10/dist-packages/sklearn/cluster/_kmeans.py:870: FutureWarning: The default value of `n_init` will change from 3 to 'auto' in 1.4. Set the value of `n_init` explicitly to suppress the warning\n",
            "  warnings.warn(\n",
            "/usr/local/lib/python3.10/dist-packages/sklearn/cluster/_kmeans.py:870: FutureWarning: The default value of `n_init` will change from 3 to 'auto' in 1.4. Set the value of `n_init` explicitly to suppress the warning\n",
            "  warnings.warn(\n",
            "/usr/local/lib/python3.10/dist-packages/sklearn/cluster/_kmeans.py:870: FutureWarning: The default value of `n_init` will change from 3 to 'auto' in 1.4. Set the value of `n_init` explicitly to suppress the warning\n",
            "  warnings.warn(\n",
            "/usr/local/lib/python3.10/dist-packages/sklearn/cluster/_kmeans.py:870: FutureWarning: The default value of `n_init` will change from 3 to 'auto' in 1.4. Set the value of `n_init` explicitly to suppress the warning\n",
            "  warnings.warn(\n",
            "/usr/local/lib/python3.10/dist-packages/sklearn/cluster/_kmeans.py:870: FutureWarning: The default value of `n_init` will change from 3 to 'auto' in 1.4. Set the value of `n_init` explicitly to suppress the warning\n",
            "  warnings.warn(\n",
            "/usr/local/lib/python3.10/dist-packages/sklearn/cluster/_kmeans.py:870: FutureWarning: The default value of `n_init` will change from 3 to 'auto' in 1.4. Set the value of `n_init` explicitly to suppress the warning\n",
            "  warnings.warn(\n",
            "/usr/local/lib/python3.10/dist-packages/sklearn/cluster/_kmeans.py:870: FutureWarning: The default value of `n_init` will change from 3 to 'auto' in 1.4. Set the value of `n_init` explicitly to suppress the warning\n",
            "  warnings.warn(\n",
            "/usr/local/lib/python3.10/dist-packages/sklearn/cluster/_kmeans.py:870: FutureWarning: The default value of `n_init` will change from 3 to 'auto' in 1.4. Set the value of `n_init` explicitly to suppress the warning\n",
            "  warnings.warn(\n",
            "/usr/local/lib/python3.10/dist-packages/sklearn/cluster/_kmeans.py:870: FutureWarning: The default value of `n_init` will change from 3 to 'auto' in 1.4. Set the value of `n_init` explicitly to suppress the warning\n",
            "  warnings.warn(\n",
            "/usr/local/lib/python3.10/dist-packages/sklearn/cluster/_kmeans.py:870: FutureWarning: The default value of `n_init` will change from 3 to 'auto' in 1.4. Set the value of `n_init` explicitly to suppress the warning\n",
            "  warnings.warn(\n",
            "/usr/local/lib/python3.10/dist-packages/sklearn/cluster/_kmeans.py:870: FutureWarning: The default value of `n_init` will change from 3 to 'auto' in 1.4. Set the value of `n_init` explicitly to suppress the warning\n",
            "  warnings.warn(\n",
            "/usr/local/lib/python3.10/dist-packages/sklearn/cluster/_kmeans.py:870: FutureWarning: The default value of `n_init` will change from 3 to 'auto' in 1.4. Set the value of `n_init` explicitly to suppress the warning\n",
            "  warnings.warn(\n",
            "/usr/local/lib/python3.10/dist-packages/sklearn/cluster/_kmeans.py:870: FutureWarning: The default value of `n_init` will change from 3 to 'auto' in 1.4. Set the value of `n_init` explicitly to suppress the warning\n",
            "  warnings.warn(\n",
            "/usr/local/lib/python3.10/dist-packages/sklearn/cluster/_kmeans.py:870: FutureWarning: The default value of `n_init` will change from 3 to 'auto' in 1.4. Set the value of `n_init` explicitly to suppress the warning\n",
            "  warnings.warn(\n",
            "/usr/local/lib/python3.10/dist-packages/sklearn/cluster/_kmeans.py:870: FutureWarning: The default value of `n_init` will change from 3 to 'auto' in 1.4. Set the value of `n_init` explicitly to suppress the warning\n",
            "  warnings.warn(\n",
            "/usr/local/lib/python3.10/dist-packages/sklearn/cluster/_kmeans.py:870: FutureWarning: The default value of `n_init` will change from 3 to 'auto' in 1.4. Set the value of `n_init` explicitly to suppress the warning\n",
            "  warnings.warn(\n",
            "/usr/local/lib/python3.10/dist-packages/sklearn/cluster/_kmeans.py:870: FutureWarning: The default value of `n_init` will change from 3 to 'auto' in 1.4. Set the value of `n_init` explicitly to suppress the warning\n",
            "  warnings.warn(\n",
            "/usr/local/lib/python3.10/dist-packages/sklearn/cluster/_kmeans.py:870: FutureWarning: The default value of `n_init` will change from 3 to 'auto' in 1.4. Set the value of `n_init` explicitly to suppress the warning\n",
            "  warnings.warn(\n",
            "/usr/local/lib/python3.10/dist-packages/sklearn/cluster/_kmeans.py:870: FutureWarning: The default value of `n_init` will change from 3 to 'auto' in 1.4. Set the value of `n_init` explicitly to suppress the warning\n",
            "  warnings.warn(\n",
            "/usr/local/lib/python3.10/dist-packages/sklearn/cluster/_kmeans.py:870: FutureWarning: The default value of `n_init` will change from 3 to 'auto' in 1.4. Set the value of `n_init` explicitly to suppress the warning\n",
            "  warnings.warn(\n",
            "/usr/local/lib/python3.10/dist-packages/sklearn/cluster/_kmeans.py:870: FutureWarning: The default value of `n_init` will change from 3 to 'auto' in 1.4. Set the value of `n_init` explicitly to suppress the warning\n",
            "  warnings.warn(\n",
            "/usr/local/lib/python3.10/dist-packages/sklearn/cluster/_kmeans.py:870: FutureWarning: The default value of `n_init` will change from 3 to 'auto' in 1.4. Set the value of `n_init` explicitly to suppress the warning\n",
            "  warnings.warn(\n",
            "/usr/local/lib/python3.10/dist-packages/sklearn/cluster/_kmeans.py:870: FutureWarning: The default value of `n_init` will change from 3 to 'auto' in 1.4. Set the value of `n_init` explicitly to suppress the warning\n",
            "  warnings.warn(\n",
            "/usr/local/lib/python3.10/dist-packages/sklearn/cluster/_kmeans.py:870: FutureWarning: The default value of `n_init` will change from 3 to 'auto' in 1.4. Set the value of `n_init` explicitly to suppress the warning\n",
            "  warnings.warn(\n",
            "/usr/local/lib/python3.10/dist-packages/sklearn/cluster/_kmeans.py:870: FutureWarning: The default value of `n_init` will change from 3 to 'auto' in 1.4. Set the value of `n_init` explicitly to suppress the warning\n",
            "  warnings.warn(\n",
            "/usr/local/lib/python3.10/dist-packages/sklearn/cluster/_kmeans.py:870: FutureWarning: The default value of `n_init` will change from 3 to 'auto' in 1.4. Set the value of `n_init` explicitly to suppress the warning\n",
            "  warnings.warn(\n",
            "/usr/local/lib/python3.10/dist-packages/sklearn/cluster/_kmeans.py:870: FutureWarning: The default value of `n_init` will change from 3 to 'auto' in 1.4. Set the value of `n_init` explicitly to suppress the warning\n",
            "  warnings.warn(\n",
            "/usr/local/lib/python3.10/dist-packages/sklearn/cluster/_kmeans.py:870: FutureWarning: The default value of `n_init` will change from 3 to 'auto' in 1.4. Set the value of `n_init` explicitly to suppress the warning\n",
            "  warnings.warn(\n",
            "/usr/local/lib/python3.10/dist-packages/sklearn/cluster/_kmeans.py:870: FutureWarning: The default value of `n_init` will change from 3 to 'auto' in 1.4. Set the value of `n_init` explicitly to suppress the warning\n",
            "  warnings.warn(\n",
            "/usr/local/lib/python3.10/dist-packages/sklearn/cluster/_kmeans.py:870: FutureWarning: The default value of `n_init` will change from 3 to 'auto' in 1.4. Set the value of `n_init` explicitly to suppress the warning\n",
            "  warnings.warn(\n",
            "/usr/local/lib/python3.10/dist-packages/sklearn/cluster/_kmeans.py:870: FutureWarning: The default value of `n_init` will change from 3 to 'auto' in 1.4. Set the value of `n_init` explicitly to suppress the warning\n",
            "  warnings.warn(\n",
            "/usr/local/lib/python3.10/dist-packages/sklearn/cluster/_kmeans.py:870: FutureWarning: The default value of `n_init` will change from 3 to 'auto' in 1.4. Set the value of `n_init` explicitly to suppress the warning\n",
            "  warnings.warn(\n",
            "/usr/local/lib/python3.10/dist-packages/sklearn/cluster/_kmeans.py:870: FutureWarning: The default value of `n_init` will change from 3 to 'auto' in 1.4. Set the value of `n_init` explicitly to suppress the warning\n",
            "  warnings.warn(\n",
            "/usr/local/lib/python3.10/dist-packages/sklearn/cluster/_kmeans.py:870: FutureWarning: The default value of `n_init` will change from 3 to 'auto' in 1.4. Set the value of `n_init` explicitly to suppress the warning\n",
            "  warnings.warn(\n",
            "/usr/local/lib/python3.10/dist-packages/sklearn/cluster/_kmeans.py:870: FutureWarning: The default value of `n_init` will change from 3 to 'auto' in 1.4. Set the value of `n_init` explicitly to suppress the warning\n",
            "  warnings.warn(\n",
            "/usr/local/lib/python3.10/dist-packages/sklearn/cluster/_kmeans.py:870: FutureWarning: The default value of `n_init` will change from 3 to 'auto' in 1.4. Set the value of `n_init` explicitly to suppress the warning\n",
            "  warnings.warn(\n",
            "/usr/local/lib/python3.10/dist-packages/sklearn/cluster/_kmeans.py:870: FutureWarning: The default value of `n_init` will change from 3 to 'auto' in 1.4. Set the value of `n_init` explicitly to suppress the warning\n",
            "  warnings.warn(\n",
            "/usr/local/lib/python3.10/dist-packages/sklearn/cluster/_kmeans.py:870: FutureWarning: The default value of `n_init` will change from 3 to 'auto' in 1.4. Set the value of `n_init` explicitly to suppress the warning\n",
            "  warnings.warn(\n",
            "/usr/local/lib/python3.10/dist-packages/sklearn/cluster/_kmeans.py:870: FutureWarning: The default value of `n_init` will change from 3 to 'auto' in 1.4. Set the value of `n_init` explicitly to suppress the warning\n",
            "  warnings.warn(\n",
            "/usr/local/lib/python3.10/dist-packages/sklearn/cluster/_kmeans.py:870: FutureWarning: The default value of `n_init` will change from 3 to 'auto' in 1.4. Set the value of `n_init` explicitly to suppress the warning\n",
            "  warnings.warn(\n",
            "/usr/local/lib/python3.10/dist-packages/sklearn/cluster/_kmeans.py:870: FutureWarning: The default value of `n_init` will change from 3 to 'auto' in 1.4. Set the value of `n_init` explicitly to suppress the warning\n",
            "  warnings.warn(\n",
            "/usr/local/lib/python3.10/dist-packages/sklearn/cluster/_kmeans.py:870: FutureWarning: The default value of `n_init` will change from 3 to 'auto' in 1.4. Set the value of `n_init` explicitly to suppress the warning\n",
            "  warnings.warn(\n",
            "/usr/local/lib/python3.10/dist-packages/sklearn/cluster/_kmeans.py:870: FutureWarning: The default value of `n_init` will change from 3 to 'auto' in 1.4. Set the value of `n_init` explicitly to suppress the warning\n",
            "  warnings.warn(\n",
            "/usr/local/lib/python3.10/dist-packages/sklearn/cluster/_kmeans.py:870: FutureWarning: The default value of `n_init` will change from 3 to 'auto' in 1.4. Set the value of `n_init` explicitly to suppress the warning\n",
            "  warnings.warn(\n",
            "/usr/local/lib/python3.10/dist-packages/sklearn/cluster/_kmeans.py:870: FutureWarning: The default value of `n_init` will change from 3 to 'auto' in 1.4. Set the value of `n_init` explicitly to suppress the warning\n",
            "  warnings.warn(\n",
            "/usr/local/lib/python3.10/dist-packages/sklearn/cluster/_kmeans.py:870: FutureWarning: The default value of `n_init` will change from 3 to 'auto' in 1.4. Set the value of `n_init` explicitly to suppress the warning\n",
            "  warnings.warn(\n",
            "/usr/local/lib/python3.10/dist-packages/sklearn/cluster/_kmeans.py:870: FutureWarning: The default value of `n_init` will change from 3 to 'auto' in 1.4. Set the value of `n_init` explicitly to suppress the warning\n",
            "  warnings.warn(\n",
            "/usr/local/lib/python3.10/dist-packages/sklearn/cluster/_kmeans.py:870: FutureWarning: The default value of `n_init` will change from 3 to 'auto' in 1.4. Set the value of `n_init` explicitly to suppress the warning\n",
            "  warnings.warn(\n",
            "/usr/local/lib/python3.10/dist-packages/sklearn/cluster/_kmeans.py:870: FutureWarning: The default value of `n_init` will change from 3 to 'auto' in 1.4. Set the value of `n_init` explicitly to suppress the warning\n",
            "  warnings.warn(\n",
            "/usr/local/lib/python3.10/dist-packages/sklearn/cluster/_kmeans.py:870: FutureWarning: The default value of `n_init` will change from 3 to 'auto' in 1.4. Set the value of `n_init` explicitly to suppress the warning\n",
            "  warnings.warn(\n",
            "/usr/local/lib/python3.10/dist-packages/sklearn/cluster/_kmeans.py:870: FutureWarning: The default value of `n_init` will change from 3 to 'auto' in 1.4. Set the value of `n_init` explicitly to suppress the warning\n",
            "  warnings.warn(\n",
            "/usr/local/lib/python3.10/dist-packages/sklearn/cluster/_kmeans.py:870: FutureWarning: The default value of `n_init` will change from 3 to 'auto' in 1.4. Set the value of `n_init` explicitly to suppress the warning\n",
            "  warnings.warn(\n",
            "/usr/local/lib/python3.10/dist-packages/sklearn/cluster/_kmeans.py:870: FutureWarning: The default value of `n_init` will change from 3 to 'auto' in 1.4. Set the value of `n_init` explicitly to suppress the warning\n",
            "  warnings.warn(\n",
            "/usr/local/lib/python3.10/dist-packages/sklearn/cluster/_kmeans.py:870: FutureWarning: The default value of `n_init` will change from 3 to 'auto' in 1.4. Set the value of `n_init` explicitly to suppress the warning\n",
            "  warnings.warn(\n",
            "/usr/local/lib/python3.10/dist-packages/sklearn/cluster/_kmeans.py:870: FutureWarning: The default value of `n_init` will change from 3 to 'auto' in 1.4. Set the value of `n_init` explicitly to suppress the warning\n",
            "  warnings.warn(\n",
            "/usr/local/lib/python3.10/dist-packages/sklearn/cluster/_kmeans.py:870: FutureWarning: The default value of `n_init` will change from 3 to 'auto' in 1.4. Set the value of `n_init` explicitly to suppress the warning\n",
            "  warnings.warn(\n",
            "/usr/local/lib/python3.10/dist-packages/sklearn/cluster/_kmeans.py:870: FutureWarning: The default value of `n_init` will change from 3 to 'auto' in 1.4. Set the value of `n_init` explicitly to suppress the warning\n",
            "  warnings.warn(\n",
            "/usr/local/lib/python3.10/dist-packages/sklearn/cluster/_kmeans.py:870: FutureWarning: The default value of `n_init` will change from 3 to 'auto' in 1.4. Set the value of `n_init` explicitly to suppress the warning\n",
            "  warnings.warn(\n",
            "/usr/local/lib/python3.10/dist-packages/sklearn/cluster/_kmeans.py:870: FutureWarning: The default value of `n_init` will change from 3 to 'auto' in 1.4. Set the value of `n_init` explicitly to suppress the warning\n",
            "  warnings.warn(\n",
            "/usr/local/lib/python3.10/dist-packages/sklearn/cluster/_kmeans.py:870: FutureWarning: The default value of `n_init` will change from 3 to 'auto' in 1.4. Set the value of `n_init` explicitly to suppress the warning\n",
            "  warnings.warn(\n",
            "/usr/local/lib/python3.10/dist-packages/sklearn/cluster/_kmeans.py:870: FutureWarning: The default value of `n_init` will change from 3 to 'auto' in 1.4. Set the value of `n_init` explicitly to suppress the warning\n",
            "  warnings.warn(\n",
            "/usr/local/lib/python3.10/dist-packages/sklearn/cluster/_kmeans.py:870: FutureWarning: The default value of `n_init` will change from 3 to 'auto' in 1.4. Set the value of `n_init` explicitly to suppress the warning\n",
            "  warnings.warn(\n",
            "/usr/local/lib/python3.10/dist-packages/sklearn/cluster/_kmeans.py:870: FutureWarning: The default value of `n_init` will change from 3 to 'auto' in 1.4. Set the value of `n_init` explicitly to suppress the warning\n",
            "  warnings.warn(\n",
            "/usr/local/lib/python3.10/dist-packages/sklearn/cluster/_kmeans.py:870: FutureWarning: The default value of `n_init` will change from 3 to 'auto' in 1.4. Set the value of `n_init` explicitly to suppress the warning\n",
            "  warnings.warn(\n",
            "/usr/local/lib/python3.10/dist-packages/sklearn/cluster/_kmeans.py:870: FutureWarning: The default value of `n_init` will change from 3 to 'auto' in 1.4. Set the value of `n_init` explicitly to suppress the warning\n",
            "  warnings.warn(\n",
            "/usr/local/lib/python3.10/dist-packages/sklearn/cluster/_kmeans.py:870: FutureWarning: The default value of `n_init` will change from 3 to 'auto' in 1.4. Set the value of `n_init` explicitly to suppress the warning\n",
            "  warnings.warn(\n",
            "/usr/local/lib/python3.10/dist-packages/sklearn/cluster/_kmeans.py:870: FutureWarning: The default value of `n_init` will change from 3 to 'auto' in 1.4. Set the value of `n_init` explicitly to suppress the warning\n",
            "  warnings.warn(\n",
            "/usr/local/lib/python3.10/dist-packages/sklearn/cluster/_kmeans.py:870: FutureWarning: The default value of `n_init` will change from 3 to 'auto' in 1.4. Set the value of `n_init` explicitly to suppress the warning\n",
            "  warnings.warn(\n",
            "/usr/local/lib/python3.10/dist-packages/sklearn/cluster/_kmeans.py:870: FutureWarning: The default value of `n_init` will change from 3 to 'auto' in 1.4. Set the value of `n_init` explicitly to suppress the warning\n",
            "  warnings.warn(\n",
            "/usr/local/lib/python3.10/dist-packages/sklearn/cluster/_kmeans.py:870: FutureWarning: The default value of `n_init` will change from 3 to 'auto' in 1.4. Set the value of `n_init` explicitly to suppress the warning\n",
            "  warnings.warn(\n",
            "/usr/local/lib/python3.10/dist-packages/sklearn/cluster/_kmeans.py:870: FutureWarning: The default value of `n_init` will change from 3 to 'auto' in 1.4. Set the value of `n_init` explicitly to suppress the warning\n",
            "  warnings.warn(\n",
            "/usr/local/lib/python3.10/dist-packages/sklearn/cluster/_kmeans.py:870: FutureWarning: The default value of `n_init` will change from 3 to 'auto' in 1.4. Set the value of `n_init` explicitly to suppress the warning\n",
            "  warnings.warn(\n",
            "/usr/local/lib/python3.10/dist-packages/sklearn/cluster/_kmeans.py:870: FutureWarning: The default value of `n_init` will change from 3 to 'auto' in 1.4. Set the value of `n_init` explicitly to suppress the warning\n",
            "  warnings.warn(\n",
            "/usr/local/lib/python3.10/dist-packages/sklearn/cluster/_kmeans.py:870: FutureWarning: The default value of `n_init` will change from 3 to 'auto' in 1.4. Set the value of `n_init` explicitly to suppress the warning\n",
            "  warnings.warn(\n",
            "/usr/local/lib/python3.10/dist-packages/sklearn/cluster/_kmeans.py:870: FutureWarning: The default value of `n_init` will change from 3 to 'auto' in 1.4. Set the value of `n_init` explicitly to suppress the warning\n",
            "  warnings.warn(\n",
            "/usr/local/lib/python3.10/dist-packages/sklearn/cluster/_kmeans.py:870: FutureWarning: The default value of `n_init` will change from 3 to 'auto' in 1.4. Set the value of `n_init` explicitly to suppress the warning\n",
            "  warnings.warn(\n",
            "/usr/local/lib/python3.10/dist-packages/sklearn/cluster/_kmeans.py:870: FutureWarning: The default value of `n_init` will change from 3 to 'auto' in 1.4. Set the value of `n_init` explicitly to suppress the warning\n",
            "  warnings.warn(\n",
            "/usr/local/lib/python3.10/dist-packages/sklearn/cluster/_kmeans.py:870: FutureWarning: The default value of `n_init` will change from 3 to 'auto' in 1.4. Set the value of `n_init` explicitly to suppress the warning\n",
            "  warnings.warn(\n",
            "/usr/local/lib/python3.10/dist-packages/sklearn/cluster/_kmeans.py:870: FutureWarning: The default value of `n_init` will change from 3 to 'auto' in 1.4. Set the value of `n_init` explicitly to suppress the warning\n",
            "  warnings.warn(\n",
            "/usr/local/lib/python3.10/dist-packages/sklearn/cluster/_kmeans.py:870: FutureWarning: The default value of `n_init` will change from 3 to 'auto' in 1.4. Set the value of `n_init` explicitly to suppress the warning\n",
            "  warnings.warn(\n",
            "/usr/local/lib/python3.10/dist-packages/sklearn/cluster/_kmeans.py:870: FutureWarning: The default value of `n_init` will change from 3 to 'auto' in 1.4. Set the value of `n_init` explicitly to suppress the warning\n",
            "  warnings.warn(\n",
            "/usr/local/lib/python3.10/dist-packages/sklearn/cluster/_kmeans.py:870: FutureWarning: The default value of `n_init` will change from 3 to 'auto' in 1.4. Set the value of `n_init` explicitly to suppress the warning\n",
            "  warnings.warn(\n",
            "/usr/local/lib/python3.10/dist-packages/sklearn/cluster/_kmeans.py:870: FutureWarning: The default value of `n_init` will change from 3 to 'auto' in 1.4. Set the value of `n_init` explicitly to suppress the warning\n",
            "  warnings.warn(\n",
            "/usr/local/lib/python3.10/dist-packages/sklearn/cluster/_kmeans.py:870: FutureWarning: The default value of `n_init` will change from 3 to 'auto' in 1.4. Set the value of `n_init` explicitly to suppress the warning\n",
            "  warnings.warn(\n",
            "/usr/local/lib/python3.10/dist-packages/sklearn/cluster/_kmeans.py:870: FutureWarning: The default value of `n_init` will change from 3 to 'auto' in 1.4. Set the value of `n_init` explicitly to suppress the warning\n",
            "  warnings.warn(\n",
            "/usr/local/lib/python3.10/dist-packages/sklearn/cluster/_kmeans.py:870: FutureWarning: The default value of `n_init` will change from 3 to 'auto' in 1.4. Set the value of `n_init` explicitly to suppress the warning\n",
            "  warnings.warn(\n",
            "/usr/local/lib/python3.10/dist-packages/sklearn/cluster/_kmeans.py:870: FutureWarning: The default value of `n_init` will change from 3 to 'auto' in 1.4. Set the value of `n_init` explicitly to suppress the warning\n",
            "  warnings.warn(\n",
            "/usr/local/lib/python3.10/dist-packages/sklearn/cluster/_kmeans.py:870: FutureWarning: The default value of `n_init` will change from 3 to 'auto' in 1.4. Set the value of `n_init` explicitly to suppress the warning\n",
            "  warnings.warn(\n",
            "/usr/local/lib/python3.10/dist-packages/sklearn/cluster/_kmeans.py:870: FutureWarning: The default value of `n_init` will change from 3 to 'auto' in 1.4. Set the value of `n_init` explicitly to suppress the warning\n",
            "  warnings.warn(\n",
            "/usr/local/lib/python3.10/dist-packages/sklearn/cluster/_kmeans.py:870: FutureWarning: The default value of `n_init` will change from 3 to 'auto' in 1.4. Set the value of `n_init` explicitly to suppress the warning\n",
            "  warnings.warn(\n",
            "/usr/local/lib/python3.10/dist-packages/sklearn/cluster/_kmeans.py:870: FutureWarning: The default value of `n_init` will change from 3 to 'auto' in 1.4. Set the value of `n_init` explicitly to suppress the warning\n",
            "  warnings.warn(\n",
            "/usr/local/lib/python3.10/dist-packages/sklearn/cluster/_kmeans.py:870: FutureWarning: The default value of `n_init` will change from 3 to 'auto' in 1.4. Set the value of `n_init` explicitly to suppress the warning\n",
            "  warnings.warn(\n",
            "/usr/local/lib/python3.10/dist-packages/sklearn/cluster/_kmeans.py:870: FutureWarning: The default value of `n_init` will change from 3 to 'auto' in 1.4. Set the value of `n_init` explicitly to suppress the warning\n",
            "  warnings.warn(\n",
            "/usr/local/lib/python3.10/dist-packages/sklearn/cluster/_kmeans.py:870: FutureWarning: The default value of `n_init` will change from 3 to 'auto' in 1.4. Set the value of `n_init` explicitly to suppress the warning\n",
            "  warnings.warn(\n",
            "/usr/local/lib/python3.10/dist-packages/sklearn/cluster/_kmeans.py:870: FutureWarning: The default value of `n_init` will change from 3 to 'auto' in 1.4. Set the value of `n_init` explicitly to suppress the warning\n",
            "  warnings.warn(\n",
            "/usr/local/lib/python3.10/dist-packages/sklearn/cluster/_kmeans.py:870: FutureWarning: The default value of `n_init` will change from 3 to 'auto' in 1.4. Set the value of `n_init` explicitly to suppress the warning\n",
            "  warnings.warn(\n",
            "/usr/local/lib/python3.10/dist-packages/sklearn/cluster/_kmeans.py:870: FutureWarning: The default value of `n_init` will change from 3 to 'auto' in 1.4. Set the value of `n_init` explicitly to suppress the warning\n",
            "  warnings.warn(\n",
            "/usr/local/lib/python3.10/dist-packages/sklearn/cluster/_kmeans.py:870: FutureWarning: The default value of `n_init` will change from 3 to 'auto' in 1.4. Set the value of `n_init` explicitly to suppress the warning\n",
            "  warnings.warn(\n",
            "/usr/local/lib/python3.10/dist-packages/sklearn/cluster/_kmeans.py:870: FutureWarning: The default value of `n_init` will change from 3 to 'auto' in 1.4. Set the value of `n_init` explicitly to suppress the warning\n",
            "  warnings.warn(\n",
            "/usr/local/lib/python3.10/dist-packages/sklearn/cluster/_kmeans.py:870: FutureWarning: The default value of `n_init` will change from 3 to 'auto' in 1.4. Set the value of `n_init` explicitly to suppress the warning\n",
            "  warnings.warn(\n",
            "/usr/local/lib/python3.10/dist-packages/sklearn/cluster/_kmeans.py:870: FutureWarning: The default value of `n_init` will change from 3 to 'auto' in 1.4. Set the value of `n_init` explicitly to suppress the warning\n",
            "  warnings.warn(\n",
            "/usr/local/lib/python3.10/dist-packages/sklearn/cluster/_kmeans.py:870: FutureWarning: The default value of `n_init` will change from 3 to 'auto' in 1.4. Set the value of `n_init` explicitly to suppress the warning\n",
            "  warnings.warn(\n",
            "/usr/local/lib/python3.10/dist-packages/sklearn/cluster/_kmeans.py:870: FutureWarning: The default value of `n_init` will change from 3 to 'auto' in 1.4. Set the value of `n_init` explicitly to suppress the warning\n",
            "  warnings.warn(\n",
            "/usr/local/lib/python3.10/dist-packages/sklearn/cluster/_kmeans.py:870: FutureWarning: The default value of `n_init` will change from 3 to 'auto' in 1.4. Set the value of `n_init` explicitly to suppress the warning\n",
            "  warnings.warn(\n",
            "/usr/local/lib/python3.10/dist-packages/sklearn/cluster/_kmeans.py:870: FutureWarning: The default value of `n_init` will change from 3 to 'auto' in 1.4. Set the value of `n_init` explicitly to suppress the warning\n",
            "  warnings.warn(\n"
          ]
        },
        {
          "output_type": "stream",
          "name": "stdout",
          "text": [
            "Cluster Labels:\n",
            "[3 3 3 ... 0 0 0]\n"
          ]
        }
      ],
      "source": [
        "from sklearn.cluster import MiniBatchKMeans\n",
        "import numpy as np\n",
        "\n",
        "# Step 4: Perform graph-based clustering on the optimized graph\n",
        "def perform_clustering(adjacency_matrix, k):\n",
        "    num_samples = adjacency_matrix.shape[0]\n",
        "    cluster_labels = np.zeros(num_samples, dtype=np.int32)\n",
        "    subset_size = 1000  # Adjust the subset size based on available memory\n",
        "    num_subsets = num_samples // subset_size\n",
        "\n",
        "    for i in range(num_subsets):\n",
        "        start_index = i * subset_size\n",
        "        end_index = (i + 1) * subset_size\n",
        "        subset_adjacency_matrix = adjacency_matrix[start_index:end_index]\n",
        "        kmeans = MiniBatchKMeans(n_clusters=k)\n",
        "        subset_labels = kmeans.fit_predict(subset_adjacency_matrix)\n",
        "        cluster_labels[start_index:end_index] = subset_labels\n",
        "\n",
        "    return cluster_labels\n",
        "\n",
        "# Assuming you have already generated the optimized_adjacency_matrix and defined the variable k\n",
        "\n",
        "cluster_labels = perform_clustering(optimized_adjacency_matrix, k)\n",
        "\n",
        "print(\"Cluster Labels:\")\n",
        "print(cluster_labels)\n",
        "\n"
      ]
    },
    {
      "cell_type": "code",
      "source": [
        "import numpy as np\n",
        "\n",
        "# Assuming labels and cluster_labels are your original arrays\n",
        "labels = np.array(labels)\n",
        "cluster_labels = np.array(cluster_labels)\n",
        "\n",
        "# Check lengths\n",
        "print(len(labels))\n",
        "print(len(cluster_labels))\n",
        "\n",
        "# Adjust the length of arrays\n",
        "if len(labels) > len(cluster_labels):\n",
        "    indices = np.random.choice(len(labels), size=len(cluster_labels), replace=False)\n",
        "    labels = labels[indices]\n",
        "elif len(cluster_labels) > len(labels):\n",
        "    indices = np.random.choice(len(cluster_labels), size=len(labels), replace=False)\n",
        "    cluster_labels = cluster_labels[indices]\n",
        "\n",
        "# Now the lengths should be the same\n",
        "print(len(labels))\n",
        "print(len(cluster_labels))\n",
        "\n"
      ],
      "metadata": {
        "colab": {
          "base_uri": "https://localhost:8080/"
        },
        "id": "ZZvQuW-wzPuq",
        "outputId": "33758eb9-94f8-4cc3-cdab-2f2a2491ee50"
      },
      "execution_count": 21,
      "outputs": [
        {
          "output_type": "stream",
          "name": "stdout",
          "text": [
            "111104\n",
            "111100\n",
            "111100\n",
            "111100\n"
          ]
        }
      ]
    },
    {
      "cell_type": "code",
      "execution_count": 23,
      "metadata": {
        "id": "eAw4qWyX4tsz",
        "colab": {
          "base_uri": "https://localhost:8080/"
        },
        "outputId": "7a9d7305-9172-4f14-958b-dd4edd9ccb8d"
      },
      "outputs": [
        {
          "output_type": "stream",
          "name": "stdout",
          "text": [
            "Accuracy: 0.08772277227722772\n",
            "Precision: 0.285998963091963\n",
            "Recall: 0.08772277227722772\n",
            "F1 Score: 0.1197278945872158\n"
          ]
        },
        {
          "output_type": "stream",
          "name": "stderr",
          "text": [
            "/usr/local/lib/python3.10/dist-packages/sklearn/metrics/_classification.py:1344: UndefinedMetricWarning: Precision is ill-defined and being set to 0.0 in labels with no predicted samples. Use `zero_division` parameter to control this behavior.\n",
            "  _warn_prf(average, modifier, msg_start, len(result))\n"
          ]
        }
      ],
      "source": [
        "from sklearn.metrics import accuracy_score, precision_score, recall_score, f1_score\n",
        "import numpy as np\n",
        "\n",
        "def evaluate_model(cluster_labels, true_labels):\n",
        "    accuracy = accuracy_score(true_labels, cluster_labels)\n",
        "    precision = precision_score(true_labels, cluster_labels, average='weighted')\n",
        "    recall = recall_score(true_labels, cluster_labels, average='weighted')\n",
        "    f1 = f1_score(true_labels, cluster_labels, average='weighted')\n",
        "    return accuracy, precision, recall, f1\n",
        "\n",
        "accuracy, precision, recall, f1 = evaluate_model(cluster_labels, labels)\n",
        "\n",
        "print(\"Accuracy:\", accuracy)\n",
        "print(\"Precision:\", precision)\n",
        "print(\"Recall:\", recall)\n",
        "print(\"F1 Score:\", f1)\n",
        "\n"
      ]
    }
  ],
  "metadata": {
    "colab": {
      "machine_shape": "hm",
      "provenance": [],
      "include_colab_link": true
    },
    "kernelspec": {
      "display_name": "Python 3",
      "name": "python3"
    },
    "language_info": {
      "name": "python"
    }
  },
  "nbformat": 4,
  "nbformat_minor": 0
}